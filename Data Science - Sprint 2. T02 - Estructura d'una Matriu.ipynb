{
  "cells": [
    {
      "cell_type": "markdown",
      "id": "62109b8c",
      "metadata": {
        "id": "62109b8c"
      },
      "source": [
        "# S02 T02: Estructura d'una Matriu\n",
        "## Nivell 1\n",
        "Treballem els conceptes de l'estructura d'una matriu, dimensió, eixos i la vectorització que ens permet reduir l'ús de for loops en operacions aritmètiques o matemàtiques..\n",
        "\n",
        "### Exercici 1\n",
        "Crea un np.array d'una dimensió, que inclogui l'almenys 8 nombres sencers, data type int64. Mostra la dimensió i la forma de la matriu. "
      ]
    },
    {
      "cell_type": "code",
      "source": [
        "import numpy as np\n",
        "#Array de 1D amb 8 nombres\n",
        "arr = np.array([1, 2, 3, 4, 5, 6, 7, 8])\n",
        "print(\"La dimensió del array és:\", arr.ndim) \n",
        "print(\"La forma del array és :\", arr.shape)"
      ],
      "metadata": {
        "colab": {
          "base_uri": "https://localhost:8080/"
        },
        "id": "XDjDGAI1UOxV",
        "outputId": "4ba0bf6b-24e3-4239-d47f-f83b31c1ce92"
      },
      "id": "XDjDGAI1UOxV",
      "execution_count": 22,
      "outputs": [
        {
          "output_type": "stream",
          "name": "stdout",
          "text": [
            "La dimensió del array és: 1\n",
            "La forma del array és : (8,)\n"
          ]
        }
      ]
    },
    {
      "cell_type": "markdown",
      "source": [
        "### Exercici 2\n",
        "\n",
        "De la matriu de l'exercici 1, calcula el valor mitjà dels valors introduïts."
      ],
      "metadata": {
        "id": "qvk0vNGJYfEG"
      },
      "id": "qvk0vNGJYfEG"
    },
    {
      "cell_type": "code",
      "source": [
        "mitjana = np.average(arr)\n",
        "print(\"La mitjana de la matriu és:\", mitjana)"
      ],
      "metadata": {
        "colab": {
          "base_uri": "https://localhost:8080/"
        },
        "id": "vAYYDgMKY-9P",
        "outputId": "59b827a3-23bb-4684-94ed-6d52b7b3f96a"
      },
      "id": "vAYYDgMKY-9P",
      "execution_count": 15,
      "outputs": [
        {
          "output_type": "stream",
          "name": "stdout",
          "text": [
            "La mitjana de la matriu és: 4.5\n"
          ]
        }
      ]
    },
    {
      "cell_type": "markdown",
      "source": [
        "### Exercici 3\n",
        "\n",
        "Crea una matriu bidimensional amb una forma de 5 x 5. Extreu el valor màxim de la matriu, i els valors màxims de cadascun dels seus eixos."
      ],
      "metadata": {
        "id": "f-JSNm96cIAd"
      },
      "id": "f-JSNm96cIAd"
    },
    {
      "cell_type": "code",
      "source": [
        "#Importem random per generar una matriu aleatoria\n",
        "from numpy import random\n",
        "matriu5 = random.randint(10, size=(5,5))\n",
        "print(matriu5)\n",
        "\n",
        "#Valor màxim de la matriu\n",
        "print(np.max(matriu5))\n",
        "\n",
        "#Valor màxim de la matriu per cada eix\n",
        "print(\"El valor màxim de cada coumna és:\", np.max(matriu5, axis=0))\n",
        "print(\"El valor màxim de cada fila és:\", np.max(matriu5, axis=1))\n"
      ],
      "metadata": {
        "colab": {
          "base_uri": "https://localhost:8080/"
        },
        "cellView": "code",
        "id": "fyNyn-ODcPwH",
        "outputId": "f35151ff-baab-42ea-f68b-4c6b19b379e8"
      },
      "id": "fyNyn-ODcPwH",
      "execution_count": 34,
      "outputs": [
        {
          "output_type": "stream",
          "name": "stdout",
          "text": [
            "[[3 6 3 0 7]\n",
            " [6 7 0 5 8]\n",
            " [2 5 5 4 0]\n",
            " [0 4 5 4 4]\n",
            " [8 0 9 3 9]]\n",
            "9\n",
            "El valor màxim de cada coumna és: [8 7 9 5 9]\n",
            "El valor màxim de cada fila és: [7 8 5 5 9]\n"
          ]
        }
      ]
    },
    {
      "cell_type": "markdown",
      "source": [
        "## Nivell 2\n",
        "\n",
        "Treballem els conceptes de l'estructura d'una matriu, Broadcasting, indexació, Mask...\n",
        "\n",
        "### Exercici 4\n",
        "\n",
        "Mostreu-me amb exemples de diferents matrius, la regla fonamental de Broadcasting que diu : \"les matrius es poden transmetre / broadcast si les seves dimensions coincideixen o si una de les matrius té una mida d'1\"."
      ],
      "metadata": {
        "id": "7tM1Xq9s1MRi"
      },
      "id": "7tM1Xq9s1MRi"
    },
    {
      "cell_type": "code",
      "source": [
        ""
      ],
      "metadata": {
        "id": "HvQcityq1YAK"
      },
      "id": "HvQcityq1YAK",
      "execution_count": null,
      "outputs": []
    }
  ],
  "metadata": {
    "kernelspec": {
      "display_name": "Python 3 (ipykernel)",
      "language": "python",
      "name": "python3"
    },
    "language_info": {
      "codemirror_mode": {
        "name": "ipython",
        "version": 3
      },
      "file_extension": ".py",
      "mimetype": "text/x-python",
      "name": "python",
      "nbconvert_exporter": "python",
      "pygments_lexer": "ipython3",
      "version": "3.9.7"
    },
    "toc": {
      "base_numbering": 1,
      "nav_menu": {},
      "number_sections": true,
      "sideBar": true,
      "skip_h1_title": false,
      "title_cell": "Table of Contents",
      "title_sidebar": "Contents",
      "toc_cell": false,
      "toc_position": {},
      "toc_section_display": true,
      "toc_window_display": false
    },
    "colab": {
      "name": "Data Science - Sprint 2. T02 - Estructura d'una Matriu.ipynb",
      "provenance": []
    }
  },
  "nbformat": 4,
  "nbformat_minor": 5
}
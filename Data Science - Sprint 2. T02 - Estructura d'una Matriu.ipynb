{
  "cells": [
    {
      "cell_type": "markdown",
      "id": "62109b8c",
      "metadata": {
        "id": "62109b8c"
      },
      "source": [
        "# S02 T02: Estructura d'una Matriu\n",
        "## Nivell 1\n",
        "Treballem els conceptes de l'estructura d'una matriu, dimensió, eixos i la vectorització que ens permet reduir l'ús de for loops en operacions aritmètiques o matemàtiques..\n",
        "\n",
        "### Exercici 1\n",
        "Crea un np.array d'una dimensió, que inclogui l'almenys 8 nombres sencers, data type int64. Mostra la dimensió i la forma de la matriu. "
      ]
    },
    {
      "cell_type": "code",
      "source": [
        "import numpy as np\n",
        "#Array de 1D amb 8 nombres\n",
        "arr = np.array([1, 2, 3, 4, 5, 6, 7, 8])\n",
        "print(\"La dimensió del array és:\", arr.ndim) \n",
        "print(\"La forma del array és :\", arr.shape)"
      ],
      "metadata": {
        "colab": {
          "base_uri": "https://localhost:8080/"
        },
        "id": "XDjDGAI1UOxV",
        "outputId": "4ba0bf6b-24e3-4239-d47f-f83b31c1ce92"
      },
      "id": "XDjDGAI1UOxV",
      "execution_count": null,
      "outputs": [
        {
          "output_type": "stream",
          "name": "stdout",
          "text": [
            "La dimensió del array és: 1\n",
            "La forma del array és : (8,)\n"
          ]
        }
      ]
    },
    {
      "cell_type": "markdown",
      "source": [
        "### Exercici 2\n",
        "\n",
        "De la matriu de l'exercici 1, calcula el valor mitjà dels valors introduïts."
      ],
      "metadata": {
        "id": "qvk0vNGJYfEG"
      },
      "id": "qvk0vNGJYfEG"
    },
    {
      "cell_type": "code",
      "source": [
        "mitjana = np.average(arr)\n",
        "print(\"La mitjana de la matriu és:\", mitjana)"
      ],
      "metadata": {
        "colab": {
          "base_uri": "https://localhost:8080/"
        },
        "id": "vAYYDgMKY-9P",
        "outputId": "59b827a3-23bb-4684-94ed-6d52b7b3f96a"
      },
      "id": "vAYYDgMKY-9P",
      "execution_count": null,
      "outputs": [
        {
          "output_type": "stream",
          "name": "stdout",
          "text": [
            "La mitjana de la matriu és: 4.5\n"
          ]
        }
      ]
    },
    {
      "cell_type": "markdown",
      "source": [
        "### Exercici 3\n",
        "\n",
        "Crea una matriu bidimensional amb una forma de 5 x 5. Extreu el valor màxim de la matriu, i els valors màxims de cadascun dels seus eixos."
      ],
      "metadata": {
        "id": "f-JSNm96cIAd"
      },
      "id": "f-JSNm96cIAd"
    },
    {
      "cell_type": "code",
      "source": [
        "#Importem random per generar una matriu aleatòria\n",
        "from numpy import random\n",
        "matriu5 = random.randint(10, size=(5,5))\n",
        "print(matriu5)\n",
        "\n",
        "#Valor màxim de la matriu\n",
        "print(\"El valor màxim de tota la matriu és:\", np.max(matriu5))\n",
        "\n",
        "#Valor màxim de la matriu per cada eix\n",
        "print(\"El valor màxim de cada columna és:\", np.max(matriu5, axis=0))\n",
        "print(\"El valor màxim de cada fila és:\", np.max(matriu5, axis=1))"
      ],
      "metadata": {
        "colab": {
          "base_uri": "https://localhost:8080/"
        },
        "cellView": "code",
        "id": "fyNyn-ODcPwH",
        "outputId": "e312dd2a-9225-4dab-f588-92603ed73bcd"
      },
      "id": "fyNyn-ODcPwH",
      "execution_count": null,
      "outputs": [
        {
          "output_type": "stream",
          "name": "stdout",
          "text": [
            "[[1 2 8 0 8]\n",
            " [1 0 2 9 1]\n",
            " [5 2 8 3 2]\n",
            " [9 5 2 3 2]\n",
            " [4 0 2 8 0]]\n",
            "El valor màxim de tota la matriu és: 9\n",
            "El valor màxim de cada columna és: [9 5 8 9 8]\n",
            "El valor màxim de cada fila és: [8 9 8 9 8]\n"
          ]
        }
      ]
    },
    {
      "cell_type": "markdown",
      "source": [
        "## Nivell 2\n",
        "\n",
        "Treballem els conceptes de l'estructura d'una matriu, Broadcasting, indexació, Mask...\n",
        "\n",
        "### Exercici 4\n",
        "\n",
        "Mostreu-me amb exemples de diferents matrius, la regla fonamental de Broadcasting que diu : \"les matrius es poden transmetre / broadcast si les seves dimensions coincideixen o si una de les matrius té una mida d'1\"."
      ],
      "metadata": {
        "id": "7tM1Xq9s1MRi"
      },
      "id": "7tM1Xq9s1MRi"
    },
    {
      "cell_type": "code",
      "source": [
        "#Les regles de Broadcasting a Numpy es poden trobar a https://numpy.org/doc/stable/user/basics.broadcasting.html\n",
        "#Exemple de dos matrius de les mateixes dimensions\n",
        "import numpy\n",
        "from numpy import random\n",
        "matriu31 = random.randint(10, size=(3,3))\n",
        "matriu32 = random.randint(10, size=(3,3))\n",
        "print(\"Primera matriu 2D de 3x3:\\n\", matriu31)\n",
        "print(\"Segona matriu 2D de 3x3:\\n\", matriu32)\n",
        "novamatriu = matriu31 * matriu32\n",
        "print(\"La multiplicació de les dues matrius és:\\n\", novamatriu)\n",
        "matriu41 = random.randint(10, size=(3,3))\n",
        "print(\"Matriu 2D de 4x4:\\n\", matriu41)\n",
        "matriu1 = numpy.array([2])\n",
        "print(\"Matriu de mida 1:\\n\", matriu1)\n",
        "print(\"La multiplicació de la matriu 2D per la de mida 1 és:\\n\", matriu41 * matriu1)"
      ],
      "metadata": {
        "id": "HvQcityq1YAK",
        "outputId": "f390dcbf-f0e3-4345-883c-554178be6eb9",
        "colab": {
          "base_uri": "https://localhost:8080/"
        }
      },
      "id": "HvQcityq1YAK",
      "execution_count": 7,
      "outputs": [
        {
          "output_type": "stream",
          "name": "stdout",
          "text": [
            "Primera matriu 2D de 3x3:\n",
            " [[4 0 4]\n",
            " [9 7 4]\n",
            " [1 4 8]]\n",
            "Segona matriu 2D de 3x3:\n",
            " [[9 4 3]\n",
            " [2 9 7]\n",
            " [9 5 2]]\n",
            "La multiplicació de les dues matrius és:\n",
            " [[36  0 12]\n",
            " [18 63 28]\n",
            " [ 9 20 16]]\n",
            "Matriu 2D de 4x4:\n",
            " [[5 4 2]\n",
            " [4 4 7]\n",
            " [7 0 4]]\n",
            "Matriu de mida 1:\n",
            " [2]\n",
            "La multiplicació de la matriu 2D per la de mida 1 és:\n",
            " [[10  8  4]\n",
            " [ 8  8 14]\n",
            " [14  0  8]]\n"
          ]
        }
      ]
    },
    {
      "cell_type": "markdown",
      "source": [
        "### Exercici 5\n",
        "\n",
        "Utilitza la Indexació per extreure els valors d'una columna i una fila de la matriu. I suma els seus valors."
      ],
      "metadata": {
        "id": "pafB3RDJA-va"
      },
      "id": "pafB3RDJA-va"
    },
    {
      "cell_type": "code",
      "source": [
        "import numpy\n",
        "from numpy import random\n",
        "matriu33 = random.randint(10, size=(3,3))\n",
        "print(\"Primer creem una matriu:\\n\", matriu33)\n",
        "fila = matriu33[0]\n",
        "print(\"Extreiem la primera fila:\", fila)\n",
        "columna = matriu33[:,1]\n",
        "print(\"Extreiem la segona columna:\", columna)\n",
        "print(\"La suma dels seus valors és:\", fila + columna)"
      ],
      "metadata": {
        "id": "Sj_t_C3JBEMx",
        "outputId": "bbd5b68a-6823-4644-cd99-2ab203bc2290",
        "colab": {
          "base_uri": "https://localhost:8080/"
        }
      },
      "id": "Sj_t_C3JBEMx",
      "execution_count": 24,
      "outputs": [
        {
          "output_type": "stream",
          "name": "stdout",
          "text": [
            "Primer creem una matriu:\n",
            " [[5 8 4]\n",
            " [2 2 0]\n",
            " [1 3 3]]\n",
            "Extreiem la primera fila: [5 8 4]\n",
            "Extreiem la segona columna: [8 2 3]\n",
            "La suma dels seus valors és:  [13 10  7]\n"
          ]
        }
      ]
    },
    {
      "cell_type": "markdown",
      "source": [
        "### Exercici 6\n",
        "\n",
        "Mask la matriu anterior, realitzeu un càlcul booleà vectoritzat, agafant cada element i comprovant si es divideix uniformement per quatre.\n",
        "\n",
        "Això retorna una matriu de mask de la mateixa forma amb els resultats elementals del càlcul."
      ],
      "metadata": {
        "id": "QFBmUEZ8F0aE"
      },
      "id": "QFBmUEZ8F0aE"
    },
    {
      "cell_type": "code",
      "source": [
        "import numpy as np\n",
        "import numpy.ma as ma\n",
        "from numpy import random\n"
      ],
      "metadata": {
        "id": "w6npzhnbF3hi"
      },
      "id": "w6npzhnbF3hi",
      "execution_count": null,
      "outputs": []
    }
  ],
  "metadata": {
    "kernelspec": {
      "display_name": "Python 3 (ipykernel)",
      "language": "python",
      "name": "python3"
    },
    "language_info": {
      "codemirror_mode": {
        "name": "ipython",
        "version": 3
      },
      "file_extension": ".py",
      "mimetype": "text/x-python",
      "name": "python",
      "nbconvert_exporter": "python",
      "pygments_lexer": "ipython3",
      "version": "3.9.7"
    },
    "toc": {
      "base_numbering": 1,
      "nav_menu": {},
      "number_sections": true,
      "sideBar": true,
      "skip_h1_title": false,
      "title_cell": "Table of Contents",
      "title_sidebar": "Contents",
      "toc_cell": false,
      "toc_position": {},
      "toc_section_display": true,
      "toc_window_display": false
    },
    "colab": {
      "name": "Data Science - Sprint 2. T02 - Estructura d'una Matriu.ipynb",
      "provenance": []
    }
  },
  "nbformat": 4,
  "nbformat_minor": 5
}
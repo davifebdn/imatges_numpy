{
  "cells": [
    {
      "cell_type": "markdown",
      "id": "62109b8c",
      "metadata": {
        "id": "62109b8c"
      },
      "source": [
        "# S02 T02: Estructura d'una Matriu\n",
        "## Nivell 1\n",
        "Treballem els conceptes de l'estructura d'una matriu, dimensió, eixos i la vectorització que ens permet reduir l'ús de for loops en operacions aritmètiques o matemàtiques..\n"
      ]
    },
    {
      "cell_type": "markdown",
      "source": [
        "### Exercici 1\n",
        "Crea un np.array d'una dimensió, que inclogui l'almenys 8 nombres sencers, data type int64. Mostra la dimensió i la forma de la matriu. "
      ],
      "metadata": {
        "id": "H-q9h3NlSz-b"
      },
      "id": "H-q9h3NlSz-b"
    },
    {
      "cell_type": "code",
      "source": [
        "import numpy as np\n",
        "#Array de 1D amb 8 nombres\n",
        "arr = np.array([1, 2, 3, 4, 5, 6, 7, 8])\n",
        "print(\"La dimensió del array és:\", arr.ndim) \n",
        "print(\"La forma del array és :\", arr.shape)"
      ],
      "metadata": {
        "colab": {
          "base_uri": "https://localhost:8080/"
        },
        "id": "XDjDGAI1UOxV",
        "outputId": "4ba0bf6b-24e3-4239-d47f-f83b31c1ce92"
      },
      "id": "XDjDGAI1UOxV",
      "execution_count": null,
      "outputs": [
        {
          "output_type": "stream",
          "name": "stdout",
          "text": [
            "La dimensió del array és: 1\n",
            "La forma del array és : (8,)\n"
          ]
        }
      ]
    },
    {
      "cell_type": "markdown",
      "source": [
        "### Exercici 2\n",
        "\n",
        "De la matriu de l'exercici 1, calcula el valor mitjà dels valors introduïts."
      ],
      "metadata": {
        "id": "qvk0vNGJYfEG"
      },
      "id": "qvk0vNGJYfEG"
    },
    {
      "cell_type": "code",
      "source": [
        "mitjana = np.average(arr)\n",
        "print(\"La mitjana de la matriu és:\", mitjana)"
      ],
      "metadata": {
        "colab": {
          "base_uri": "https://localhost:8080/"
        },
        "id": "vAYYDgMKY-9P",
        "outputId": "59b827a3-23bb-4684-94ed-6d52b7b3f96a"
      },
      "id": "vAYYDgMKY-9P",
      "execution_count": null,
      "outputs": [
        {
          "output_type": "stream",
          "name": "stdout",
          "text": [
            "La mitjana de la matriu és: 4.5\n"
          ]
        }
      ]
    },
    {
      "cell_type": "markdown",
      "source": [
        "### Exercici 3\n",
        "\n",
        "Crea una matriu bidimensional amb una forma de 5 x 5. Extreu el valor màxim de la matriu, i els valors màxims de cadascun dels seus eixos."
      ],
      "metadata": {
        "id": "f-JSNm96cIAd"
      },
      "id": "f-JSNm96cIAd"
    },
    {
      "cell_type": "code",
      "source": [
        "#Importem random per generar una matriu aleatòria\n",
        "\n",
        "matriu5 = random.randint(10, size=(5,5))\n",
        "print(matriu5)\n",
        "\n",
        "#Valor màxim de la matriu\n",
        "print(\"El valor màxim de tota la matriu és:\", np.max(matriu5))\n",
        "\n",
        "#Valor màxim de la matriu per cada eix\n",
        "print(\"El valor màxim de cada columna és:\", np.max(matriu5, axis=0))\n",
        "print(\"El valor màxim de cada fila és:\", np.max(matriu5, axis=1))"
      ],
      "metadata": {
        "colab": {
          "base_uri": "https://localhost:8080/"
        },
        "cellView": "code",
        "id": "fyNyn-ODcPwH",
        "outputId": "67b627b8-c6b0-4391-d973-5af045aec5b1"
      },
      "id": "fyNyn-ODcPwH",
      "execution_count": null,
      "outputs": [
        {
          "output_type": "stream",
          "name": "stdout",
          "text": [
            "[[7 7 0 6 1]\n",
            " [6 4 3 6 2]\n",
            " [9 7 2 2 0]\n",
            " [3 0 9 1 5]\n",
            " [1 7 9 7 3]]\n",
            "El valor màxim de tota la matriu és: 9\n",
            "El valor màxim de cada columna és: [9 7 9 7 5]\n",
            "El valor màxim de cada fila és: [7 6 9 9 9]\n"
          ]
        }
      ]
    },
    {
      "cell_type": "markdown",
      "source": [
        "## Nivell 2\n",
        "\n",
        "Treballem els conceptes de l'estructura d'una matriu, Broadcasting, indexació, Mask..."
      ],
      "metadata": {
        "id": "7tM1Xq9s1MRi"
      },
      "id": "7tM1Xq9s1MRi"
    },
    {
      "cell_type": "markdown",
      "source": [
        "### Exercici 4\n",
        "\n",
        "Mostreu-me amb exemples de diferents matrius, la regla fonamental de Broadcasting que diu : \"les matrius es poden transmetre / broadcast si les seves dimensions coincideixen o si una de les matrius té una mida d'1\"."
      ],
      "metadata": {
        "id": "CIgyaVQRTQVL"
      },
      "id": "CIgyaVQRTQVL"
    },
    {
      "cell_type": "code",
      "source": [
        "#Les regles de Broadcasting a Numpy es poden trobar a https://numpy.org/doc/stable/user/basics.broadcasting.html\n",
        "#Exemple de dos matrius de les mateixes dimensions\n",
        "matriu31 = random.randint(10, size=(3,3))\n",
        "matriu32 = random.randint(10, size=(3,3))\n",
        "print(\"Primera matriu 2D de 3x3:\\n\", matriu31)\n",
        "print(\"Segona matriu 2D de 3x3:\\n\", matriu32)\n",
        "novamatriu = matriu31 * matriu32\n",
        "print(\"La multiplicació de les dues matrius és:\\n\", novamatriu)\n",
        "matriu41 = random.randint(10, size=(3,3))\n",
        "#Exemple de multiplicació amb una matriu de mida 1\n",
        "print(\"Matriu 2D de 4x4:\\n\", matriu41)\n",
        "matriu1 = np.array([2])\n",
        "print(\"Matriu de mida 1:\\n\", matriu1)\n",
        "print(\"La multiplicació de la matriu 2D per la de mida 1 és:\\n\", matriu41 * matriu1)"
      ],
      "metadata": {
        "id": "HvQcityq1YAK",
        "outputId": "e62fbcf2-ae3c-45ad-aec3-67beddb124a5",
        "colab": {
          "base_uri": "https://localhost:8080/"
        }
      },
      "id": "HvQcityq1YAK",
      "execution_count": null,
      "outputs": [
        {
          "output_type": "stream",
          "name": "stdout",
          "text": [
            "Primera matriu 2D de 3x3:\n",
            " [[0 4 1]\n",
            " [4 0 0]\n",
            " [2 3 9]]\n",
            "Segona matriu 2D de 3x3:\n",
            " [[5 6 3]\n",
            " [1 8 6]\n",
            " [7 2 0]]\n",
            "La multiplicació de les dues matrius és:\n",
            " [[ 0 24  3]\n",
            " [ 4  0  0]\n",
            " [14  6  0]]\n",
            "Matriu 2D de 4x4:\n",
            " [[7 6 5]\n",
            " [5 7 6]\n",
            " [1 7 2]]\n",
            "Matriu de mida 1:\n",
            " [2]\n",
            "La multiplicació de la matriu 2D per la de mida 1 és:\n",
            " [[14 12 10]\n",
            " [10 14 12]\n",
            " [ 2 14  4]]\n"
          ]
        }
      ]
    },
    {
      "cell_type": "markdown",
      "source": [
        "### Exercici 5\n",
        "\n",
        "Utilitza la Indexació per extreure els valors d'una columna i una fila de la matriu. I suma els seus valors."
      ],
      "metadata": {
        "id": "pafB3RDJA-va"
      },
      "id": "pafB3RDJA-va"
    },
    {
      "cell_type": "code",
      "source": [
        "matriu33 = random.randint(10, size=(3,3))\n",
        "print(\"Primer creem una matriu:\\n\", matriu33)\n",
        "fila = matriu33[0]\n",
        "print(\"Extreiem la primera fila:\", fila)\n",
        "columna = matriu33[:,1]\n",
        "print(\"Extreiem la segona columna:\", columna)\n",
        "print(\"La suma dels seus valors és:\", fila + columna)"
      ],
      "metadata": {
        "colab": {
          "base_uri": "https://localhost:8080/"
        },
        "id": "Sj_t_C3JBEMx",
        "outputId": "bbd5b68a-6823-4644-cd99-2ab203bc2290"
      },
      "id": "Sj_t_C3JBEMx",
      "execution_count": null,
      "outputs": [
        {
          "output_type": "stream",
          "name": "stdout",
          "text": [
            "Primer creem una matriu:\n",
            " [[5 8 4]\n",
            " [2 2 0]\n",
            " [1 3 3]]\n",
            "Extreiem la primera fila: [5 8 4]\n",
            "Extreiem la segona columna: [8 2 3]\n",
            "La suma dels seus valors és:  [13 10  7]\n"
          ]
        }
      ]
    },
    {
      "cell_type": "markdown",
      "source": [
        "### Exercici 6\n",
        "\n",
        "Mask la matriu anterior, realitzeu un càlcul booleà vectoritzat, agafant cada element i comprovant si es divideix uniformement per quatre.\n",
        "\n",
        "Això retorna una matriu de mask de la mateixa forma amb els resultats elementals del càlcul."
      ],
      "metadata": {
        "id": "QFBmUEZ8F0aE"
      },
      "id": "QFBmUEZ8F0aE"
    },
    {
      "cell_type": "code",
      "source": [
        "quartapart = (matriu33%4 == 0)\n",
        "print(\"La matriu booleana divida per quatre és:\\n\", quartapart)"
      ],
      "metadata": {
        "colab": {
          "base_uri": "https://localhost:8080/"
        },
        "id": "w6npzhnbF3hi",
        "outputId": "aca38197-5118-486f-ae1c-bb4ed1a98581"
      },
      "id": "w6npzhnbF3hi",
      "execution_count": null,
      "outputs": [
        {
          "output_type": "stream",
          "name": "stdout",
          "text": [
            "La matriu booleana divida per quatre és:\n",
            " [[False  True  True]\n",
            " [False False  True]\n",
            " [False False False]]\n"
          ]
        }
      ]
    },
    {
      "cell_type": "markdown",
      "source": [
        "### Exercici 7\n",
        "\n",
        "A continuació, utilitzeu aquesta màscara per indexar a la matriu de números original. Això fa que la matriu perdi la seva forma original, reduint-la a una dimensió, però encara obteniu les dades que esteu cercant."
      ],
      "metadata": {
        "id": "eELdrMh1MXoc"
      },
      "id": "eELdrMh1MXoc"
    },
    {
      "cell_type": "code",
      "source": [
        "print(\"Les dades que han retornat True (divisibles per 4) son:\", matriu33[quartapart])"
      ],
      "metadata": {
        "id": "er2L_ku8Make",
        "outputId": "e59e56ea-c5d0-479d-c5e9-48c16d13f37e",
        "colab": {
          "base_uri": "https://localhost:8080/"
        }
      },
      "id": "er2L_ku8Make",
      "execution_count": null,
      "outputs": [
        {
          "output_type": "stream",
          "name": "stdout",
          "text": [
            "Les dades que han retornat True son: [8 4 0]\n"
          ]
        }
      ]
    },
    {
      "cell_type": "markdown",
      "source": [
        "## Nivell 3\n",
        "\n",
        "Manipulació d’imatges amb Matplotlib.\n",
        "\n",
        "Carregareu qualsevol imatge (jpg, png ..) amb Matplotlib. adoneu-vos que les imatges RGB (Red, Green, Blue) són realment només amplades × alçades × 3 matrius (tres canals Vermell, Verd i Blau), una per cada color de nombres enters int8,\n",
        "\n",
        "manipuleu aquests bytes i torneu a utilitzar Matplotlib per desar la imatge modificada un cop hàgiu acabat.\n",
        "\n",
        "Ajuda:Importeu, import matplotlib.image as mpimg. estudieu el metodde mpimg.imread(()"
      ],
      "metadata": {
        "id": "9OrQQYTnSerF"
      },
      "id": "9OrQQYTnSerF"
    },
    {
      "cell_type": "markdown",
      "source": [
        "### Exercici 8\n",
        "\n",
        "Mostreu-me a veure que passa quan eliminem el canal G Verd o B Blau.\n",
        "\n",
        "Mostreu-me a veure què passa quan eliminem el canal G Verd o B Blau. Hauries d'utilitzar la indexació per seleccionar el canal que voleu anul·lar.\n",
        "\n",
        "Utilitzar el mètode, mpimg.imsave () de la llibreria importada, per guardar les imatges modificades i que haureu de pujar al vostre repositori a github.\n"
      ],
      "metadata": {
        "id": "QdrvVBJSTWSD"
      },
      "id": "QdrvVBJSTWSD"
    },
    {
      "cell_type": "code",
      "source": [
        "import matplotlib.pyplot as plt\n",
        "import matplotlib.image as mpimg\n",
        "img = mpimg.imread('https://stsci-opo.org/STScI-01EVT1KG6QRFHEHHA14GT3FR0G.png')\n",
        "print(img)"
      ],
      "metadata": {
        "id": "8CnnNTkESnEZ",
        "outputId": "8d3ca8c9-5b7d-4c6e-89a8-a655cea2fb36",
        "colab": {
          "base_uri": "https://localhost:8080/"
        }
      },
      "id": "8CnnNTkESnEZ",
      "execution_count": 49,
      "outputs": [
        {
          "output_type": "stream",
          "name": "stdout",
          "text": [
            "[[[1. 1. 1. 0.]\n",
            "  [1. 1. 1. 0.]\n",
            "  [1. 1. 1. 0.]\n",
            "  ...\n",
            "  [1. 1. 1. 0.]\n",
            "  [1. 1. 1. 0.]\n",
            "  [1. 1. 1. 0.]]\n",
            "\n",
            " [[1. 1. 1. 0.]\n",
            "  [1. 1. 1. 0.]\n",
            "  [1. 1. 1. 0.]\n",
            "  ...\n",
            "  [1. 1. 1. 0.]\n",
            "  [1. 1. 1. 0.]\n",
            "  [1. 1. 1. 0.]]\n",
            "\n",
            " [[1. 1. 1. 0.]\n",
            "  [1. 1. 1. 0.]\n",
            "  [1. 1. 1. 0.]\n",
            "  ...\n",
            "  [1. 1. 1. 0.]\n",
            "  [1. 1. 1. 0.]\n",
            "  [1. 1. 1. 0.]]\n",
            "\n",
            " ...\n",
            "\n",
            " [[1. 1. 1. 0.]\n",
            "  [1. 1. 1. 0.]\n",
            "  [1. 1. 1. 0.]\n",
            "  ...\n",
            "  [1. 1. 1. 0.]\n",
            "  [1. 1. 1. 0.]\n",
            "  [1. 1. 1. 0.]]\n",
            "\n",
            " [[1. 1. 1. 0.]\n",
            "  [1. 1. 1. 0.]\n",
            "  [1. 1. 1. 0.]\n",
            "  ...\n",
            "  [1. 1. 1. 0.]\n",
            "  [1. 1. 1. 0.]\n",
            "  [1. 1. 1. 0.]]\n",
            "\n",
            " [[1. 1. 1. 0.]\n",
            "  [1. 1. 1. 0.]\n",
            "  [1. 1. 1. 0.]\n",
            "  ...\n",
            "  [1. 1. 1. 0.]\n",
            "  [1. 1. 1. 0.]\n",
            "  [1. 1. 1. 0.]]]\n"
          ]
        }
      ]
    }
  ],
  "metadata": {
    "kernelspec": {
      "display_name": "Python 3 (ipykernel)",
      "language": "python",
      "name": "python3"
    },
    "language_info": {
      "codemirror_mode": {
        "name": "ipython",
        "version": 3
      },
      "file_extension": ".py",
      "mimetype": "text/x-python",
      "name": "python",
      "nbconvert_exporter": "python",
      "pygments_lexer": "ipython3",
      "version": "3.9.7"
    },
    "toc": {
      "base_numbering": 1,
      "nav_menu": {},
      "number_sections": true,
      "sideBar": true,
      "skip_h1_title": false,
      "title_cell": "Table of Contents",
      "title_sidebar": "Contents",
      "toc_cell": false,
      "toc_position": {},
      "toc_section_display": true,
      "toc_window_display": false
    },
    "colab": {
      "name": "Data Science - Sprint 2. T02 - Estructura d'una Matriu.ipynb",
      "provenance": [],
      "toc_visible": true
    }
  },
  "nbformat": 4,
  "nbformat_minor": 5
}
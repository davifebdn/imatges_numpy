{
  "cells": [
    {
      "cell_type": "markdown",
      "id": "62109b8c",
      "metadata": {
        "id": "62109b8c"
      },
      "source": [
        "# S02 T02: Estructura d'una Matriu\n",
        "## Nivell 1\n",
        "Treballem els conceptes de l'estructura d'una matriu, dimensió, eixos i la vectorització que ens permet reduir l'ús de for loops en operacions aritmètiques o matemàtiques..\n",
        "\n",
        "### Exercici 1\n",
        "Crea un np.array d'una dimensió, que inclogui l'almenys 8 nombres sencers, data type int64. Mostra la dimensió i la forma de la matriu. "
      ]
    },
    {
      "cell_type": "code",
      "source": [
        "import numpy as np\n",
        "#Array de 1D amb 8 nombres\n",
        "arr = np.array([1, 2, 3, 4, 5, 6, 7, 8])\n",
        "print(\"La forma de la matriu és :\", arr.shape)\n"
      ],
      "metadata": {
        "id": "XDjDGAI1UOxV",
        "outputId": "d61521f9-fad6-440e-813e-117d218c2f0e",
        "colab": {
          "base_uri": "https://localhost:8080/"
        }
      },
      "id": "XDjDGAI1UOxV",
      "execution_count": 7,
      "outputs": [
        {
          "output_type": "stream",
          "name": "stdout",
          "text": [
            "La forma de la matriu és : (8,)\n"
          ]
        }
      ]
    }
  ],
  "metadata": {
    "kernelspec": {
      "display_name": "Python 3 (ipykernel)",
      "language": "python",
      "name": "python3"
    },
    "language_info": {
      "codemirror_mode": {
        "name": "ipython",
        "version": 3
      },
      "file_extension": ".py",
      "mimetype": "text/x-python",
      "name": "python",
      "nbconvert_exporter": "python",
      "pygments_lexer": "ipython3",
      "version": "3.9.7"
    },
    "toc": {
      "base_numbering": 1,
      "nav_menu": {},
      "number_sections": true,
      "sideBar": true,
      "skip_h1_title": false,
      "title_cell": "Table of Contents",
      "title_sidebar": "Contents",
      "toc_cell": false,
      "toc_position": {},
      "toc_section_display": true,
      "toc_window_display": false
    },
    "colab": {
      "name": "Data Science - Sprint 2. T02 - Estructura d'una Matriu.ipynb",
      "provenance": []
    }
  },
  "nbformat": 4,
  "nbformat_minor": 5
}